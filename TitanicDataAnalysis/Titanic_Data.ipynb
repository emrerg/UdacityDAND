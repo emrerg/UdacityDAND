{
 "cells": [
  {
   "cell_type": "markdown",
   "metadata": {
    "collapsed": true
   },
   "source": [
    "# Analysing Titanic Passenger Data\n",
    "\n",
    "This report is prepared as the completion project for Udacity Data Analysis Nanodegree, Stage 2"
   ]
  },
  {
   "cell_type": "markdown",
   "metadata": {},
   "source": [
    "### Info About the Dataset\n",
    "\n",
    "First thing we will do is to import the data and have a glimpse. A quick look to csv file makes clear that PassengerId column is the unique identifier, so it could be used as the index column."
   ]
  },
  {
   "cell_type": "code",
   "execution_count": 1,
   "metadata": {
    "collapsed": true
   },
   "outputs": [],
   "source": [
    "import pandas as pd\n",
    "import numpy as np\n",
    "\n",
    "#Import titanic-data.csv file as a pandas dataframe\n",
    "#Choose 'PassengerId' as index column.\n",
    "titandf = pd.read_csv('titanic-data.csv', index_col = 'PassengerId') "
   ]
  },
  {
   "cell_type": "markdown",
   "metadata": {},
   "source": [
    "Printing some example columns to make sure the file is imported to dataframe properly."
   ]
  },
  {
   "cell_type": "code",
   "execution_count": 2,
   "metadata": {
    "collapsed": false
   },
   "outputs": [
    {
     "name": "stdout",
     "output_type": "stream",
     "text": [
      "891\n",
      "Survived                          0\n",
      "Pclass                            3\n",
      "Name        Braund, Mr. Owen Harris\n",
      "Sex                            male\n",
      "Age                              22\n",
      "SibSp                             1\n",
      "Parch                             0\n",
      "Ticket                    A/5 21171\n",
      "Fare                           7.25\n",
      "Cabin                           NaN\n",
      "Embarked                          S\n",
      "Name: 1, dtype: object\n",
      "Survived                                   1\n",
      "Pclass                                     3\n",
      "Name        Madigan, Miss. Margaret \"Maggie\"\n",
      "Sex                                   female\n",
      "Age                                      NaN\n",
      "SibSp                                      0\n",
      "Parch                                      0\n",
      "Ticket                                370370\n",
      "Fare                                    7.75\n",
      "Cabin                                    NaN\n",
      "Embarked                                   Q\n",
      "Name: 199, dtype: object\n"
     ]
    }
   ],
   "source": [
    "print len(titandf)                        #Print length of the dataset\n",
    "print titandf.loc[1]                      #Print passenger column with id 1\n",
    "print titandf.loc[199]                    #Print passenger column with id 199"
   ]
  },
  {
   "cell_type": "markdown",
   "metadata": {},
   "source": [
    "Seems fine. We have 891 passengers onboard (actual number is higher than that but we will ignore this for this exercise). However looking those examples, two points arise:\n",
    "\n",
    "**1** - Some column names are self explanatory, but some are not (i.e SibSp). What do they mean?\n",
    "\n",
    "**2** - There are some null values, which would negatively affect the analysis. It's necessary to know which columns are complete, and which columns contain null values."
   ]
  },
  {
   "cell_type": "markdown",
   "metadata": {},
   "source": [
    "For the first point, we turn to Kaggle, where we originally imported the data. [This link](https://www.kaggle.com/c/titanic/data \"Titanic: Machine Learning From Disaster\") describe all the variables."
   ]
  },
  {
   "cell_type": "markdown",
   "metadata": {},
   "source": [
    "Printing number of null values in each column should give us an idea about the second point."
   ]
  },
  {
   "cell_type": "code",
   "execution_count": 3,
   "metadata": {
    "collapsed": false
   },
   "outputs": [
    {
     "data": {
      "text/plain": [
       "Survived      0\n",
       "Pclass        0\n",
       "Name          0\n",
       "Sex           0\n",
       "Age         177\n",
       "SibSp         0\n",
       "Parch         0\n",
       "Ticket        0\n",
       "Fare          0\n",
       "Cabin       687\n",
       "Embarked      2\n",
       "dtype: int64"
      ]
     },
     "execution_count": 3,
     "metadata": {},
     "output_type": "execute_result"
    }
   ],
   "source": [
    "def total_null(data):                        #Returns number of nulls in given argument\n",
    "    return data.isnull().sum()               \n",
    "\n",
    "titandf.apply(total_null, axis=0)            #Apply total_null function to all *columns* - that's why the axis is 0"
   ]
  },
  {
   "cell_type": "markdown",
   "metadata": {},
   "source": [
    "Turns out almost one fifth of the passengers do not have age information. This should be kept in mind while doing any age related analysis, and we need to decide what to do with those null values."
   ]
  },
  {
   "cell_type": "markdown",
   "metadata": {},
   "source": [
    "### Posing the Question\n",
    "\n",
    "The main quesion to focus for this practice is quite straightforward - **what factors made people more likely to survive?** Looking at the examples printed and variable description, I will focus on 3 variables:\n",
    "\n",
    "- **Fare**\n",
    "- **Age**\n",
    "- **Gender**"
   ]
  },
  {
   "cell_type": "markdown",
   "metadata": {},
   "source": [
    "## Fare"
   ]
  },
  {
   "cell_type": "code",
   "execution_count": 4,
   "metadata": {
    "collapsed": false
   },
   "outputs": [
    {
     "data": {
      "text/plain": [
       "count    891.000000\n",
       "mean      32.204208\n",
       "std       49.693429\n",
       "min        0.000000\n",
       "25%        7.910400\n",
       "50%       14.454200\n",
       "75%       31.000000\n",
       "max      512.329200\n",
       "Name: Fare, dtype: float64"
      ]
     },
     "execution_count": 4,
     "metadata": {},
     "output_type": "execute_result"
    }
   ],
   "source": [
    "titandf['Fare'].describe()                    #Describe fare column"
   ]
  },
  {
   "cell_type": "markdown",
   "metadata": {},
   "source": [
    "This gives an idea about what is the range we are dealing with, and looking at the mean and standard deviation, we can expect a positively skewed distribution. However, visualising the distribution will give us a more accurate picture."
   ]
  },
  {
   "cell_type": "code",
   "execution_count": 5,
   "metadata": {
    "collapsed": false
   },
   "outputs": [
    {
     "data": {
      "text/plain": [
       "<matplotlib.text.Text at 0x11912b250>"
      ]
     },
     "execution_count": 5,
     "metadata": {},
     "output_type": "execute_result"
    },
    {
     "data": {
      "image/png": "[encoded data removed]",
      "text/plain": [
       "<matplotlib.figure.Figure at 0x116dbabd0>"
      ]
     },
     "metadata": {},
     "output_type": "display_data"
    }
   ],
   "source": [
    "import matplotlib.pyplot as plt                   \n",
    "%matplotlib inline\n",
    "\n",
    "import seaborn as sns                             #Import Seaborn for pretty graphs\n",
    "sns.set(color_codes=True)\n",
    "\n",
    "titandf['Fare'].hist()                            #Print histogram for 'Fare'\n",
    "plt.title('Fare Distribution', fontsize = 20)\n",
    "plt.xlabel('Fare')\n",
    "plt.ylabel('Number of Passengers')"
   ]
  },
  {
   "cell_type": "markdown",
   "metadata": {},
   "source": [
    "As expected, it's a positively skewed distribution, however these standard bin sizes prevent does not help to have a good idea about the distribution. After some trial-error, I came up with the bins below."
   ]
  },
  {
   "cell_type": "code",
   "execution_count": 6,
   "metadata": {
    "collapsed": false
   },
   "outputs": [
    {
     "data": {
      "text/plain": [
       "<matplotlib.text.Text at 0x119812810>"
      ]
     },
     "execution_count": 6,
     "metadata": {},
     "output_type": "execute_result"
    },
    {
     "data": {
      "image/png": "[encoded data removed]",
      "text/plain": [
       "<matplotlib.figure.Figure at 0x1197bb2d0>"
      ]
     },
     "metadata": {},
     "output_type": "display_data"
    }
   ],
   "source": [
    "fare_bins = [0,10,20,30,40,60,80,100,125,150,200,250,300,513]\n",
    "\n",
    "#Passing the fare_bins and making the graph bigger using figsize\n",
    "titandf['Fare'].hist(bins=fare_bins, figsize=(18,5))\n",
    "plt.title('Fare Distribution', fontsize = 20)\n",
    "plt.xlabel('Fare')\n",
    "plt.ylabel('Number of Passengers')"
   ]
  },
  {
   "cell_type": "markdown",
   "metadata": {},
   "source": [
    "The next thing I'd like to see is the survivors in each bin."
   ]
  },
  {
   "cell_type": "code",
   "execution_count": 7,
   "metadata": {
    "collapsed": false
   },
   "outputs": [
    {
     "name": "stdout",
     "output_type": "stream",
     "text": [
      "Populating the interactive namespace from numpy and matplotlib\n"
     ]
    },
    {
     "data": {
      "image/png": "[encoded data removed]",
      "text/plain": [
       "<matplotlib.figure.Figure at 0x11129ea50>"
      ]
     },
     "metadata": {},
     "output_type": "display_data"
    }
   ],
   "source": [
    "#Query titandf and filter the survivors\n",
    "survivors = titandf[(titandf['Survived'] == 1)]        \n",
    "\n",
    "#Store fare column for all passengers\n",
    "all_fares = titandf['Fare']\n",
    "\n",
    "#Store fare column for survivors only\n",
    "survivor_fares = survivors['Fare']                                  \n",
    "\n",
    "#Using pyplot hist function to map two histograms together.\n",
    "%pylab inline                                          \n",
    "pylab.rcParams['figure.figsize'] = (18, 5)           \n",
    "\n",
    "plt.hist(all_fares, fare_bins, label='All')                   \n",
    "plt.hist(survivor_fares, fare_bins, label='Survivors')\n",
    "plt.ylabel('Number of Passengers')\n",
    "plt.xlabel('Fare Group')\n",
    "plt.title('Survivors in Each Fare Group', fontsize = 20)\n",
    "\n",
    "#Locate the legend on upper right\n",
    "plt.legend(loc='upper right')                              \n",
    "plt.show()"
   ]
  },
  {
   "cell_type": "markdown",
   "metadata": {},
   "source": [
    "Alright. Seems like if you paid more, your chances to survive was higher. However we still don't know that for sure. Therefore we need to know exact percentage of survivors in each fare group. For that, I will group all the fares based on the bin sizes above, and add that to the dataframe in another column."
   ]
  },
  {
   "cell_type": "code",
   "execution_count": 8,
   "metadata": {
    "collapsed": false
   },
   "outputs": [],
   "source": [
    "#Classifying fares into fare groups and adding a column to dataframe for fare groups.\n",
    "fare_group_names = ['0-10', '10-20','20-30','30-40','40-60','60-80','80-100','100-125',\n",
    "                    '125-150','150-200','200-250','250-300', '300+']\n",
    "\n",
    "titandf['Fare_Group'] = pd.cut(titandf['Fare'], fare_bins, labels=fare_group_names, include_lowest= True)"
   ]
  },
  {
   "cell_type": "code",
   "execution_count": 9,
   "metadata": {
    "collapsed": false
   },
   "outputs": [
    {
     "data": {
      "text/plain": [
       "Survived                                           0\n",
       "Pclass                                             2\n",
       "Name          Yrois, Miss. Henriette (\"Mrs Harbeck\")\n",
       "Sex                                           female\n",
       "Age                                               24\n",
       "SibSp                                              0\n",
       "Parch                                              0\n",
       "Ticket                                        248747\n",
       "Fare                                              13\n",
       "Cabin                                            NaN\n",
       "Embarked                                           S\n",
       "Fare_Group                                     10-20\n",
       "Name: 200, dtype: object"
      ]
     },
     "execution_count": 9,
     "metadata": {},
     "output_type": "execute_result"
    }
   ],
   "source": [
    "titandf.loc[200]                #Checking if fare classification worked"
   ]
  },
  {
   "cell_type": "markdown",
   "metadata": {},
   "source": [
    "Since we organised fare groups, we can now check the percentage of survivors in each fare group. My goal is to write a function which I could apply to fare group, and store it's output in another column in case I would improve this analysis in future for a machine learning application."
   ]
  },
  {
   "cell_type": "code",
   "execution_count": 10,
   "metadata": {
    "collapsed": false
   },
   "outputs": [
    {
     "name": "stderr",
     "output_type": "stream",
     "text": [
      "/Users/emreergin/anaconda/lib/python2.7/site-packages/ipykernel/__main__.py:3: UserWarning: Boolean Series key will be reindexed to match DataFrame index.\n",
      "  app.launch_new_instance()\n"
     ]
    }
   ],
   "source": [
    "def survivor_percentage_fare(fare_group):\n",
    "    all_fare_group = titandf[titandf['Fare_Group'] == fare_group]                #Filter the fare group\n",
    "    survivors_in_group = len(all_fare_group[titandf['Survived'] == 1]) #Filter survivors in that fare group\n",
    "    survivor_percentage = float(survivors_in_group) / float(len(all_fare_group)) #Divide survivors to fare group size\n",
    "    return survivor_percentage                                                   #Return percentage\n",
    "\n",
    "titandf['Fare_Group_Survival_Rate'] = titandf['Fare_Group'].apply(survivor_percentage_fare)"
   ]
  },
  {
   "cell_type": "code",
   "execution_count": 11,
   "metadata": {
    "collapsed": false
   },
   "outputs": [
    {
     "data": {
      "text/plain": [
       "Survived                                                    0\n",
       "Pclass                                                      2\n",
       "Name                        Byles, Rev. Thomas Roussel Davids\n",
       "Sex                                                      male\n",
       "Age                                                        42\n",
       "SibSp                                                       0\n",
       "Parch                                                       0\n",
       "Ticket                                                 244310\n",
       "Fare                                                       13\n",
       "Cabin                                                     NaN\n",
       "Embarked                                                    S\n",
       "Fare_Group                                              10-20\n",
       "Fare_Group_Survival_Rate                             0.424581\n",
       "Name: 150, dtype: object"
      ]
     },
     "execution_count": 11,
     "metadata": {},
     "output_type": "execute_result"
    }
   ],
   "source": [
    "titandf.loc[150]    #Checking if the function above worked."
   ]
  },
  {
   "cell_type": "markdown",
   "metadata": {},
   "source": [
    "Next thing I want to do is to visualise the relationship between fare groups and the survival rate. A scatter plot should give me what I need. However, to prepare the data to be plotted I need to do some cleaning."
   ]
  },
  {
   "cell_type": "code",
   "execution_count": 12,
   "metadata": {
    "collapsed": false
   },
   "outputs": [
    {
     "data": {
      "text/html": [
       "<div>\n",
       "<table border=\"1\" class=\"dataframe\">\n",
       "  <thead>\n",
       "    <tr style=\"text-align: right;\">\n",
       "      <th></th>\n",
       "      <th>FareGroup</th>\n",
       "      <th>SurvivalRate</th>\n",
       "    </tr>\n",
       "  </thead>\n",
       "  <tbody>\n",
       "    <tr>\n",
       "      <th>0</th>\n",
       "      <td>0-10</td>\n",
       "      <td>0.199405</td>\n",
       "    </tr>\n",
       "    <tr>\n",
       "      <th>1</th>\n",
       "      <td>60-80</td>\n",
       "      <td>0.520833</td>\n",
       "    </tr>\n",
       "    <tr>\n",
       "      <th>2</th>\n",
       "      <td>40-60</td>\n",
       "      <td>0.574074</td>\n",
       "    </tr>\n",
       "    <tr>\n",
       "      <th>3</th>\n",
       "      <td>20-30</td>\n",
       "      <td>0.443662</td>\n",
       "    </tr>\n",
       "    <tr>\n",
       "      <th>4</th>\n",
       "      <td>10-20</td>\n",
       "      <td>0.424581</td>\n",
       "    </tr>\n",
       "    <tr>\n",
       "      <th>5</th>\n",
       "      <td>30-40</td>\n",
       "      <td>0.396552</td>\n",
       "    </tr>\n",
       "    <tr>\n",
       "      <th>6</th>\n",
       "      <td>250-300</td>\n",
       "      <td>0.666667</td>\n",
       "    </tr>\n",
       "    <tr>\n",
       "      <th>7</th>\n",
       "      <td>125-150</td>\n",
       "      <td>0.888889</td>\n",
       "    </tr>\n",
       "    <tr>\n",
       "      <th>8</th>\n",
       "      <td>80-100</td>\n",
       "      <td>0.857143</td>\n",
       "    </tr>\n",
       "    <tr>\n",
       "      <th>9</th>\n",
       "      <td>200-250</td>\n",
       "      <td>0.636364</td>\n",
       "    </tr>\n",
       "    <tr>\n",
       "      <th>10</th>\n",
       "      <td>100-125</td>\n",
       "      <td>0.733333</td>\n",
       "    </tr>\n",
       "    <tr>\n",
       "      <th>11</th>\n",
       "      <td>300+</td>\n",
       "      <td>1.000000</td>\n",
       "    </tr>\n",
       "    <tr>\n",
       "      <th>12</th>\n",
       "      <td>150-200</td>\n",
       "      <td>0.666667</td>\n",
       "    </tr>\n",
       "  </tbody>\n",
       "</table>\n",
       "</div>"
      ],
      "text/plain": [
       "   FareGroup  SurvivalRate\n",
       "0       0-10      0.199405\n",
       "1      60-80      0.520833\n",
       "2      40-60      0.574074\n",
       "3      20-30      0.443662\n",
       "4      10-20      0.424581\n",
       "5      30-40      0.396552\n",
       "6    250-300      0.666667\n",
       "7    125-150      0.888889\n",
       "8     80-100      0.857143\n",
       "9    200-250      0.636364\n",
       "10   100-125      0.733333\n",
       "11      300+      1.000000\n",
       "12   150-200      0.666667"
      ]
     },
     "execution_count": 12,
     "metadata": {},
     "output_type": "execute_result"
    }
   ],
   "source": [
    "#Save all fare groups and corresponding survival rates into a single dataframe.\n",
    "unique_fares_and_survival = pd.unique(titandf[['Fare_Group', 'Fare_Group_Survival_Rate']].values)\n",
    "unique_fares_and_survival = list(unique_fares_and_survival)\n",
    "survival_rates_for_fare = pd.DataFrame.from_records(unique_fares_and_survival, columns = ['FareGroup', 'SurvivalRate'])\n",
    "survival_rates_for_fare"
   ]
  },
  {
   "cell_type": "markdown",
   "metadata": {},
   "source": [
    "I might need to do the same operation for other variables, so I'm saving a function to create a dataframe with survival rates and categories for a given variable."
   ]
  },
  {
   "cell_type": "code",
   "execution_count": 13,
   "metadata": {
    "collapsed": true
   },
   "outputs": [],
   "source": [
    "def category_survival_rate_df_generator(category, category_survival_rate):\n",
    "    '''Creates a dataframe with all categories and corresponding survival rates'''\n",
    "    a = pd.unique(titandf[[category, category_survival_rate]].values)   #Creates an array of tuples with unique values\n",
    "    a = list(a)                                                         #Converting into a list, to easen dataframe conversion\n",
    "    df = pd.DataFrame.from_records(a, columns=[category, 'Survival_Rate']) \n",
    "    return df"
   ]
  },
  {
   "cell_type": "code",
   "execution_count": 14,
   "metadata": {
    "collapsed": false
   },
   "outputs": [
    {
     "data": {
      "text/html": [
       "<div>\n",
       "<table border=\"1\" class=\"dataframe\">\n",
       "  <thead>\n",
       "    <tr style=\"text-align: right;\">\n",
       "      <th></th>\n",
       "      <th>Fare_Group</th>\n",
       "      <th>Survival_Rate</th>\n",
       "    </tr>\n",
       "  </thead>\n",
       "  <tbody>\n",
       "    <tr>\n",
       "      <th>0</th>\n",
       "      <td>0-10</td>\n",
       "      <td>0.199405</td>\n",
       "    </tr>\n",
       "    <tr>\n",
       "      <th>1</th>\n",
       "      <td>60-80</td>\n",
       "      <td>0.520833</td>\n",
       "    </tr>\n",
       "    <tr>\n",
       "      <th>2</th>\n",
       "      <td>40-60</td>\n",
       "      <td>0.574074</td>\n",
       "    </tr>\n",
       "    <tr>\n",
       "      <th>3</th>\n",
       "      <td>20-30</td>\n",
       "      <td>0.443662</td>\n",
       "    </tr>\n",
       "    <tr>\n",
       "      <th>4</th>\n",
       "      <td>10-20</td>\n",
       "      <td>0.424581</td>\n",
       "    </tr>\n",
       "    <tr>\n",
       "      <th>5</th>\n",
       "      <td>30-40</td>\n",
       "      <td>0.396552</td>\n",
       "    </tr>\n",
       "    <tr>\n",
       "      <th>6</th>\n",
       "      <td>250-300</td>\n",
       "      <td>0.666667</td>\n",
       "    </tr>\n",
       "    <tr>\n",
       "      <th>7</th>\n",
       "      <td>125-150</td>\n",
       "      <td>0.888889</td>\n",
       "    </tr>\n",
       "    <tr>\n",
       "      <th>8</th>\n",
       "      <td>80-100</td>\n",
       "      <td>0.857143</td>\n",
       "    </tr>\n",
       "    <tr>\n",
       "      <th>9</th>\n",
       "      <td>200-250</td>\n",
       "      <td>0.636364</td>\n",
       "    </tr>\n",
       "    <tr>\n",
       "      <th>10</th>\n",
       "      <td>100-125</td>\n",
       "      <td>0.733333</td>\n",
       "    </tr>\n",
       "    <tr>\n",
       "      <th>11</th>\n",
       "      <td>300+</td>\n",
       "      <td>1.000000</td>\n",
       "    </tr>\n",
       "    <tr>\n",
       "      <th>12</th>\n",
       "      <td>150-200</td>\n",
       "      <td>0.666667</td>\n",
       "    </tr>\n",
       "  </tbody>\n",
       "</table>\n",
       "</div>"
      ],
      "text/plain": [
       "   Fare_Group  Survival_Rate\n",
       "0        0-10       0.199405\n",
       "1       60-80       0.520833\n",
       "2       40-60       0.574074\n",
       "3       20-30       0.443662\n",
       "4       10-20       0.424581\n",
       "5       30-40       0.396552\n",
       "6     250-300       0.666667\n",
       "7     125-150       0.888889\n",
       "8      80-100       0.857143\n",
       "9     200-250       0.636364\n",
       "10    100-125       0.733333\n",
       "11       300+       1.000000\n",
       "12    150-200       0.666667"
      ]
     },
     "execution_count": 14,
     "metadata": {},
     "output_type": "execute_result"
    }
   ],
   "source": [
    "category_survival_rate_df_generator('Fare_Group', 'Fare_Group_Survival_Rate')"
   ]
  },
  {
   "cell_type": "markdown",
   "metadata": {},
   "source": [
    "Bin sizes are saved in string format, and they cannot be plotted. I will do a quick regex operation to get the lower bound of the bin, and use that for plotting."
   ]
  },
  {
   "cell_type": "code",
   "execution_count": 15,
   "metadata": {
    "collapsed": false
   },
   "outputs": [],
   "source": [
    "import re\n",
    "\n",
    "def binsize_splitter_low(data):\n",
    "    '''Splits the bin size string and returns the first figure as integer'''\n",
    "    if data == None:\n",
    "        return 0\n",
    "    else:\n",
    "        lowerbound, higherbound = re.split(r'[-+]', data)\n",
    "        return int(lowerbound)"
   ]
  },
  {
   "cell_type": "code",
   "execution_count": 16,
   "metadata": {
    "collapsed": false
   },
   "outputs": [
    {
     "data": {
      "text/plain": [
       "FareGroup           60-80\n",
       "SurvivalRate     0.520833\n",
       "BinLowerBound          60\n",
       "Name: 1, dtype: object"
      ]
     },
     "execution_count": 16,
     "metadata": {},
     "output_type": "execute_result"
    }
   ],
   "source": [
    "survival_rates_for_fare['BinLowerBound'] = survival_rates_for_fare['FareGroup'].apply(binsize_splitter_low)\n",
    "survival_rates_for_fare.loc[1]"
   ]
  },
  {
   "cell_type": "code",
   "execution_count": 17,
   "metadata": {
    "collapsed": false,
    "scrolled": true
   },
   "outputs": [
    {
     "data": {
      "text/plain": [
       "<matplotlib.text.Text at 0x11a16a590>"
      ]
     },
     "execution_count": 17,
     "metadata": {},
     "output_type": "execute_result"
    },
    {
     "data": {
      "image/png": "[encoded data removed]",
      "text/plain": [
       "<matplotlib.figure.Figure at 0x119ebf050>"
      ]
     },
     "metadata": {},
     "output_type": "display_data"
    }
   ],
   "source": [
    "#Create a scatter plot using seaborn\n",
    "fare_survive_sp = sns.lmplot('BinLowerBound', 'SurvivalRate', data=survival_rates_for_fare)\n",
    "\n",
    "#Set labels and limits for both axis\n",
    "fare_survive_sp = (fare_survive_sp.set_axis_labels(\"Fare\", \"Survival Rate\").set(xlim=(-10, 350), ylim=(0, 1.2)))\n",
    "plt.title('Relationship Between Fare & Survival Rate', fontsize = 14)"
   ]
  },
  {
   "cell_type": "markdown",
   "metadata": {
    "collapsed": true
   },
   "source": [
    "Plot shows there is almost a direct relationship between fares and likelihood of surviving"
   ]
  },
  {
   "cell_type": "markdown",
   "metadata": {},
   "source": [
    "### Age\n",
    "\n",
    "There was a topic we parked in the beginning: Almost 20% of the passengers do not have age data. If we consider all passengers as population and the passengers with age data as sample, our sample size covers **80%** of the population. Therefore I will not be doing any work around generalising the data, and will leave null values as they are."
   ]
  },
  {
   "cell_type": "code",
   "execution_count": 18,
   "metadata": {
    "collapsed": false
   },
   "outputs": [
    {
     "data": {
      "text/plain": [
       "count    714.000000\n",
       "mean      29.699118\n",
       "std       14.526497\n",
       "min        0.420000\n",
       "25%       20.125000\n",
       "50%       28.000000\n",
       "75%       38.000000\n",
       "max       80.000000\n",
       "Name: Age, dtype: float64"
      ]
     },
     "execution_count": 18,
     "metadata": {},
     "output_type": "execute_result"
    }
   ],
   "source": [
    "titandf['Age'].describe()"
   ]
  },
  {
   "cell_type": "markdown",
   "metadata": {},
   "source": [
    "Turns out Titanic had a relatively young population. Let's take a closer look on a histogram."
   ]
  },
  {
   "cell_type": "code",
   "execution_count": 19,
   "metadata": {
    "collapsed": false
   },
   "outputs": [
    {
     "data": {
      "text/plain": [
       "<matplotlib.text.Text at 0x11a32c8d0>"
      ]
     },
     "execution_count": 19,
     "metadata": {},
     "output_type": "execute_result"
    },
    {
     "data": {
      "image/png": "[encoded data removed]",
      "text/plain": [
       "<matplotlib.figure.Figure at 0x11a1e6550>"
      ]
     },
     "metadata": {},
     "output_type": "display_data"
    }
   ],
   "source": [
    "titandf['Age'].hist(figsize = (18,5))\n",
    "plt.title('Age Distribution', fontsize = 20)\n",
    "plt.xlabel('Age')\n",
    "plt.ylabel('Number of Passengers')\n"
   ]
  },
  {
   "cell_type": "markdown",
   "metadata": {},
   "source": [
    "Exactly - most passengers were on 20-40 range."
   ]
  },
  {
   "cell_type": "markdown",
   "metadata": {},
   "source": [
    "Sticking to the original question, I would like to do the same thing I have done for the fares: \n",
    "\n",
    "- Classify age groups \n",
    "- Measure survival rates in each group\n",
    "- Add survival rate as an additional column"
   ]
  },
  {
   "cell_type": "code",
   "execution_count": 20,
   "metadata": {
    "collapsed": false
   },
   "outputs": [],
   "source": [
    "age_bins = [0,10,20,30,40,50,60,70,80]\n",
    "age_group_names = ['0-10', '10-20','20-30','30-40','40-50','50-60','60-70','70-80']\n",
    "\n",
    "titandf['Age_Group'] = pd.cut(titandf['Age'], age_bins, labels=age_group_names, include_lowest= True)"
   ]
  },
  {
   "cell_type": "code",
   "execution_count": 21,
   "metadata": {
    "collapsed": false
   },
   "outputs": [
    {
     "data": {
      "text/plain": [
       "Survived                                            0\n",
       "Pclass                                              1\n",
       "Name                        Goldschmidt, Mr. George B\n",
       "Sex                                              male\n",
       "Age                                                71\n",
       "SibSp                                               0\n",
       "Parch                                               0\n",
       "Ticket                                       PC 17754\n",
       "Fare                                          34.6542\n",
       "Cabin                                              A5\n",
       "Embarked                                            C\n",
       "Fare_Group                                      30-40\n",
       "Fare_Group_Survival_Rate                     0.396552\n",
       "Age_Group                                       70-80\n",
       "Name: 97, dtype: object"
      ]
     },
     "execution_count": 21,
     "metadata": {},
     "output_type": "execute_result"
    }
   ],
   "source": [
    "#Checking if it worked\n",
    "titandf.loc[97]"
   ]
  },
  {
   "cell_type": "code",
   "execution_count": 22,
   "metadata": {
    "collapsed": false
   },
   "outputs": [
    {
     "name": "stderr",
     "output_type": "stream",
     "text": [
      "/Users/emreergin/anaconda/lib/python2.7/site-packages/ipykernel/__main__.py:6: UserWarning: Boolean Series key will be reindexed to match DataFrame index.\n"
     ]
    }
   ],
   "source": [
    "#Measure survival rate and add as a column\n",
    "\n",
    "def survivor_percentage_age(age_group):\n",
    "    \n",
    "    age_group_size = titandf[titandf['Age_Group'] == age_group]\n",
    "    survivors_in_group = len(age_group_size[titandf['Survived'] == 1])\n",
    "    if survivors_in_group != 0:\n",
    "        survivor_percentage = float(survivors_in_group) / float(len(age_group_size))\n",
    "        return survivor_percentage\n",
    "    else:\n",
    "        return 0\n",
    "\n",
    "titandf['Age_Group_Survival_Rate'] = titandf['Age_Group'].apply(survivor_percentage_age)"
   ]
  },
  {
   "cell_type": "code",
   "execution_count": 23,
   "metadata": {
    "collapsed": false
   },
   "outputs": [
    {
     "data": {
      "text/plain": [
       "Survived                                            0\n",
       "Pclass                                              1\n",
       "Name                        Goldschmidt, Mr. George B\n",
       "Sex                                              male\n",
       "Age                                                71\n",
       "SibSp                                               0\n",
       "Parch                                               0\n",
       "Ticket                                       PC 17754\n",
       "Fare                                          34.6542\n",
       "Cabin                                              A5\n",
       "Embarked                                            C\n",
       "Fare_Group                                      30-40\n",
       "Fare_Group_Survival_Rate                     0.396552\n",
       "Age_Group                                       70-80\n",
       "Age_Group_Survival_Rate                           0.2\n",
       "Name: 97, dtype: object"
      ]
     },
     "execution_count": 23,
     "metadata": {},
     "output_type": "execute_result"
    }
   ],
   "source": [
    "#Checking if it worked\n",
    "titandf.loc[97]"
   ]
  },
  {
   "cell_type": "code",
   "execution_count": 24,
   "metadata": {
    "collapsed": false
   },
   "outputs": [],
   "source": [
    "survival_rates_for_age = category_survival_rate_df_generator('Age_Group', 'Age_Group_Survival_Rate')"
   ]
  },
  {
   "cell_type": "code",
   "execution_count": 25,
   "metadata": {
    "collapsed": false
   },
   "outputs": [],
   "source": [
    "survival_rates_for_age['BinLowerBound'] = survival_rates_for_age['Age_Group'].dropna().apply(binsize_splitter_low)"
   ]
  },
  {
   "cell_type": "code",
   "execution_count": 26,
   "metadata": {
    "collapsed": false
   },
   "outputs": [
    {
     "data": {
      "text/plain": [
       "<matplotlib.text.Text at 0x11b074450>"
      ]
     },
     "execution_count": 26,
     "metadata": {},
     "output_type": "execute_result"
    },
    {
     "data": {
      "image/png": "[encoded data removed]",
      "text/plain": [
       "<matplotlib.figure.Figure at 0x119e585d0>"
      ]
     },
     "metadata": {},
     "output_type": "display_data"
    }
   ],
   "source": [
    "#Create a scatter plot using seaborn\n",
    "g = sns.lmplot('BinLowerBound', 'Survival_Rate', data=survival_rates_for_age)\n",
    "\n",
    "#Set labels and limits for both axis\n",
    "g = (g.set_axis_labels(\"Age\", \"Survival Rate\").set(xlim=(0.05, 80), ylim=(0, 1.05)))\n",
    "plt.title('Rleationship Between Age & Survival Rate', fontsize = 14)"
   ]
  },
  {
   "cell_type": "markdown",
   "metadata": {},
   "source": [
    "No surprises - likelihood of surviving decreases as the age increases. However, judging from the steepness of the line, age factor is not as strong as fare determining surviving likelihood. (Keep in mind this is not a weighted scatter plot, number of instances in each group is not taken into consideration)"
   ]
  },
  {
   "cell_type": "markdown",
   "metadata": {},
   "source": [
    "### Gender"
   ]
  },
  {
   "cell_type": "markdown",
   "metadata": {},
   "source": [
    "Considering there are only two variables in one dimension (female & male), I am just going to use a simple visualisation to showcase survivors in each gender."
   ]
  },
  {
   "cell_type": "code",
   "execution_count": 27,
   "metadata": {
    "collapsed": false
   },
   "outputs": [
    {
     "data": {
      "text/plain": [
       "<function matplotlib.pyplot.show>"
      ]
     },
     "execution_count": 27,
     "metadata": {},
     "output_type": "execute_result"
    },
    {
     "data": {
      "image/png": "[encoded data removed]",
      "text/plain": [
       "<matplotlib.figure.Figure at 0x1112cfcd0>"
      ]
     },
     "metadata": {},
     "output_type": "display_data"
    }
   ],
   "source": [
    "male_survivor_count = len(titandf[(titandf['Survived'] == 1)&(titandf['Sex'] =='male')])\n",
    "female_survivor_count = len(titandf[(titandf['Survived'] == 1)&(titandf['Sex'] =='female')])\n",
    "male_passenger_count = len(titandf[(titandf['Sex'] =='male')])\n",
    "female_passenger_count = len(titandf[(titandf['Sex'] =='female')])\n",
    "\n",
    "survivor_sex_array = [female_survivor_count, male_survivor_count]\n",
    "overall_sex_array = [female_passenger_count, male_passenger_count]\n",
    "genders = [1, 2]\n",
    "gender_labels = ['Female', 'Male']\n",
    "\n",
    "p1 = plt.bar(genders, overall_sex_array, color = 'r', align = 'center')\n",
    "p2 = plt.bar(genders, survivor_sex_array, color = 'b', align = 'center')\n",
    "plt.xticks(genders, gender_labels, fontsize = 14)\n",
    "plt.title('Survivors per Gender', fontsize = 20)\n",
    "plt.legend((p1[0], p2[0]), ('Casualties', 'Survivors'), loc='upper left')\n",
    "\n",
    "plt.show\n"
   ]
  },
  {
   "cell_type": "markdown",
   "metadata": {
    "collapsed": true
   },
   "source": [
    "As expected, ratio of survivors among females are much higher than males - females are evacuated first. I'll add the survival rate column as I did for each factor."
   ]
  },
  {
   "cell_type": "code",
   "execution_count": 28,
   "metadata": {
    "collapsed": false
   },
   "outputs": [
    {
     "name": "stderr",
     "output_type": "stream",
     "text": [
      "/Users/emreergin/anaconda/lib/python2.7/site-packages/ipykernel/__main__.py:3: UserWarning: Boolean Series key will be reindexed to match DataFrame index.\n",
      "  app.launch_new_instance()\n"
     ]
    }
   ],
   "source": [
    "def survivor_percentage_sex(sex):\n",
    "    sex_group_size = titandf[titandf['Sex'] == sex]\n",
    "    survivors_in_group = len(sex_group_size[titandf['Survived'] == 1])\n",
    "    survivor_percentage = float(survivors_in_group) / float(len(sex_group_size))\n",
    "    return survivor_percentage    \n",
    "\n",
    "titandf['Sex_Survival_Rate'] = titandf['Sex'].apply(survivor_percentage_sex)"
   ]
  },
  {
   "cell_type": "markdown",
   "metadata": {},
   "source": [
    "Lastly, printing survival rate for each gender."
   ]
  },
  {
   "cell_type": "code",
   "execution_count": 29,
   "metadata": {
    "collapsed": false
   },
   "outputs": [
    {
     "data": {
      "text/html": [
       "<div>\n",
       "<table border=\"1\" class=\"dataframe\">\n",
       "  <thead>\n",
       "    <tr style=\"text-align: right;\">\n",
       "      <th></th>\n",
       "      <th>Sex</th>\n",
       "      <th>Survival_Rate</th>\n",
       "    </tr>\n",
       "  </thead>\n",
       "  <tbody>\n",
       "    <tr>\n",
       "      <th>0</th>\n",
       "      <td>male</td>\n",
       "      <td>0.188908</td>\n",
       "    </tr>\n",
       "    <tr>\n",
       "      <th>1</th>\n",
       "      <td>female</td>\n",
       "      <td>0.742038</td>\n",
       "    </tr>\n",
       "  </tbody>\n",
       "</table>\n",
       "</div>"
      ],
      "text/plain": [
       "      Sex  Survival_Rate\n",
       "0    male       0.188908\n",
       "1  female       0.742038"
      ]
     },
     "execution_count": 29,
     "metadata": {},
     "output_type": "execute_result"
    }
   ],
   "source": [
    "survival_rate_for_gender = category_survival_rate_df_generator('Sex', 'Sex_Survival_Rate')\n",
    "survival_rate_for_gender"
   ]
  },
  {
   "cell_type": "markdown",
   "metadata": {
    "collapsed": false
   },
   "source": [
    "## Conclusions"
   ]
  },
  {
   "cell_type": "markdown",
   "metadata": {
    "collapsed": true
   },
   "source": [
    "Various conclusions have been made between the lines, so I will just outline a couple of things to wrap up this work:\n",
    "\n",
    "* Paying more for the ticket increased the likelihood to survive.\n",
    "* Survivor distribution based on genders show the men on Titanic were true gentlemen.\n",
    "* Age groups 30-40 and 50-60 had surprisingly highest survival rates.\n",
    "* Females, between 30-40 years of age, who paid more than £300 to travel in first class had the highest survival rates.\n",
    "* Males, between 70-80 years if age, who paid less than £10 to travel in third class had the lowest survival rates.\n",
    "\n",
    "\n",
    "### Limitations\n",
    "* Please keep in mind this analysis ignored a lot of dependencies and various caveats, and completed just for the purpose of getting familiar with the process and tools.\n",
    "* Number of passengers analyzed is significantly less than originial number of passengers in Titanic, and no effor was made to generalise the results.\n",
    "* Around 20% of the passengers did not have the age data.\n",
    "* Seperation of sibling and spouse numbers would allow further exploration i.e survival rate of couples with kids vs couples without kids\n",
    "\n",
    "Thank you,\n",
    "\n",
    "Emre Ergin"
   ]
  },
  {
   "cell_type": "code",
   "execution_count": null,
   "metadata": {
    "collapsed": true
   },
   "outputs": [],
   "source": []
  }
 ],
 "metadata": {
  "celltoolbar": "Raw Cell Format",
  "kernelspec": {
   "display_name": "Python 2",
   "language": "python",
   "name": "python2"
  },
  "language_info": {
   "codemirror_mode": {
    "name": "ipython",
    "version": 2
   },
   "file_extension": ".py",
   "mimetype": "text/x-python",
   "name": "python",
   "nbconvert_exporter": "python",
   "pygments_lexer": "ipython2",
   "version": "2.7.12"
  }
 },
 "nbformat": 4,
 "nbformat_minor": 0
}
